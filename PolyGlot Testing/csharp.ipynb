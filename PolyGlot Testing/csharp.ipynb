{
 "cells": [
  {
   "cell_type": "code",
   "execution_count": 1,
   "metadata": {
    "dotnet_interactive": {
     "language": "csharp"
    },
    "polyglot_notebook": {
     "kernelName": "csharp"
    },
    "vscode": {
     "languageId": "polyglot-notebook"
    }
   },
   "outputs": [
    {
     "data": {
      "text/html": [
       "<div><div></div><div></div><div><strong>Installed Packages</strong><ul><li><span>ScottPlot, 4.1.68</span></li></ul></div></div>"
      ]
     },
     "metadata": {},
     "output_type": "display_data"
    }
   ],
   "source": [
    "// Install the ScottPlot NuGet package\n",
    "#r \"nuget:ScottPlot, 4.1.*\"\n",
    "\n",
    "// Setup a custom formatter to display plots as images\n",
    "using Microsoft.DotNet.Interactive.Formatting;\n",
    "Formatter.Register(typeof(ScottPlot.Plot), (p, w) => \n",
    "    w.Write(((ScottPlot.Plot)p).GetImageHTML()), HtmlFormatter.MimeType);"
   ]
  },
  {
   "cell_type": "code",
   "execution_count": 2,
   "metadata": {
    "dotnet_interactive": {
     "language": "csharp"
    },
    "polyglot_notebook": {
     "kernelName": "csharp"
    },
    "vscode": {
     "languageId": "polyglot-notebook"
    }
   },
   "outputs": [
    {
     "data": {
      "text/html": [
       "<img src=\"data:image/png;base64,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\"></img>"
      ]
     },
     "metadata": {},
     "output_type": "display_data"
    }
   ],
   "source": [
    "// create sample data\n",
    "double[] dataX = new double[] { 1, 2, 3, 4, 5 };\n",
    "double[] dataY = new double[] { 1, 4, 9, 16, 25 };\n",
    "\n",
    "// plot the data\n",
    "var plt = new ScottPlot.Plot(400, 300);\n",
    "plt.AddScatter(dataX, dataY);\n",
    "\n",
    "// display the plot\n",
    "plt"
   ]
  },
  {
   "cell_type": "code",
   "execution_count": 3,
   "metadata": {
    "dotnet_interactive": {
     "language": "csharp"
    },
    "polyglot_notebook": {
     "kernelName": "csharp"
    },
    "vscode": {
     "languageId": "polyglot-notebook"
    }
   },
   "outputs": [],
   "source": [
    "static string ReplaceLast(this string str , string oldString, string newString)\n",
    "        {\n",
    "            var oldRev = oldString;\n",
    "            var newRev = newString;\n",
    "            oldRev.Reverse();\n",
    "            newRev.Reverse();\n",
    "            var strRev = str;\n",
    "            strRev.Reverse();\n",
    "            string rev = strRev.Replace(oldRev, newRev);\n",
    "            rev.Reverse();\n",
    "            return rev;\n",
    "        }"
   ]
  },
  {
   "cell_type": "code",
   "execution_count": 4,
   "metadata": {
    "dotnet_interactive": {
     "language": "csharp"
    },
    "polyglot_notebook": {
     "kernelName": "csharp"
    },
    "vscode": {
     "languageId": "polyglot-notebook"
    }
   },
   "outputs": [],
   "source": [
    "string testString = \"_PTV_6000\";\n",
    "string oldchar = \"_\";\n",
    "string newstr = \"opti_\";\n",
    "\n",
    "            var oldRev = oldchar;\n",
    "            var newRev = newstr;\n",
    "            oldRev.Reverse();\n",
    "            newRev.Reverse();\n",
    "            var strRev = testString;\n",
    "            strRev.Reverse();\n",
    "            string rev = strRev.Replace(oldRev, newRev);\n",
    "            rev.Reverse();\n",
    "            \n"
   ]
  },
  {
   "cell_type": "code",
   "execution_count": 5,
   "metadata": {
    "dotnet_interactive": {
     "language": "csharp"
    },
    "polyglot_notebook": {
     "kernelName": "csharp"
    },
    "vscode": {
     "languageId": "polyglot-notebook"
    }
   },
   "outputs": [
    {
     "name": "stdout",
     "output_type": "stream",
     "text": [
      "_PTVopti_6000\r\n"
     ]
    }
   ],
   "source": [
    "string testString = \"_PTV_6000\";\n",
    "string oldString = \"_\";\n",
    "string newstr = \"opti_\";\n",
    "string str = testString;\n",
    "int pos = str.LastIndexOf(oldString);\n",
    "            if (pos < 0)\n",
    "            {\n",
    "                Console.WriteLine( str);\n",
    "            }\n",
    "            Console.WriteLine(  str.Substring(0, pos) + newstr + str.Substring(pos + oldString.Length));"
   ]
  },
  {
   "cell_type": "code",
   "execution_count": 6,
   "metadata": {
    "dotnet_interactive": {
     "language": "csharp"
    },
    "polyglot_notebook": {
     "kernelName": "csharp"
    },
    "vscode": {
     "languageId": "polyglot-notebook"
    }
   },
   "outputs": [],
   "source": []
  }
 ],
 "metadata": {
  "language_info": {
   "name": "python"
  },
  "orig_nbformat": 4
 },
 "nbformat": 4,
 "nbformat_minor": 2
}
